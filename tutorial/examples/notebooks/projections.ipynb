{
 "cells": [
  {
   "cell_type": "markdown",
   "id": "0",
   "metadata": {},
   "source": [
    "# Using cartopy and projections for plotting"
   ]
  },
  {
   "cell_type": "code",
   "execution_count": null,
   "id": "1",
   "metadata": {},
   "outputs": [],
   "source": [
    "import s3fs\n",
    "import xarray as xr\n",
    "import cartopy.crs as ccrs\n",
    "import matplotlib.pyplot as plt"
   ]
  },
  {
   "cell_type": "markdown",
   "id": "2",
   "metadata": {},
   "source": [
    "## Open ERA5 dataset"
   ]
  },
  {
   "cell_type": "code",
   "execution_count": null,
   "id": "3",
   "metadata": {},
   "outputs": [],
   "source": [
    "fs = s3fs.S3FileSystem(\n",
    "    anon=True, default_fill_cache=False, config_kwargs={\"max_pool_connections\": 20}\n",
    ")"
   ]
  },
  {
   "cell_type": "code",
   "execution_count": null,
   "id": "4",
   "metadata": {},
   "outputs": [],
   "source": [
    "files_mapper = [\n",
    "    s3fs.S3Map(\"era5-pds/zarr/2020/06/data/air_temperature_at_2_metres.zarr/\", s3=fs)\n",
    "]"
   ]
  },
  {
   "cell_type": "code",
   "execution_count": null,
   "id": "5",
   "metadata": {},
   "outputs": [],
   "source": [
    "%%time\n",
    "dset = xr.open_mfdataset(\n",
    "    files_mapper,\n",
    "    engine=\"zarr\",\n",
    "    concat_dim=\"time0\",\n",
    "    combine=\"nested\",\n",
    "    coords=\"minimal\",\n",
    "    compat=\"override\",\n",
    "    parallel=True,\n",
    ")"
   ]
  },
  {
   "cell_type": "markdown",
   "id": "6",
   "metadata": {},
   "source": [
    "## Get metadata "
   ]
  },
  {
   "cell_type": "code",
   "execution_count": null,
   "id": "7",
   "metadata": {},
   "outputs": [],
   "source": [
    "dset"
   ]
  },
  {
   "cell_type": "markdown",
   "id": "8",
   "metadata": {},
   "source": [
    "### Get variable metadata (air_temperature_at_2_metres)"
   ]
  },
  {
   "cell_type": "code",
   "execution_count": null,
   "id": "9",
   "metadata": {},
   "outputs": [],
   "source": [
    "dset[\"air_temperature_at_2_metres\"]"
   ]
  },
  {
   "cell_type": "markdown",
   "id": "10",
   "metadata": {},
   "source": [
    "## Select time\n",
    "- Check time format when selecting a specific time "
   ]
  },
  {
   "cell_type": "code",
   "execution_count": null,
   "id": "11",
   "metadata": {},
   "outputs": [],
   "source": [
    "dset[\"air_temperature_at_2_metres\"].sel(time0=\"2020-06-30T21:00:00.000000000\")"
   ]
  },
  {
   "cell_type": "markdown",
   "id": "12",
   "metadata": {
    "tags": []
   },
   "source": [
    "## Visualize data"
   ]
  },
  {
   "cell_type": "markdown",
   "id": "13",
   "metadata": {
    "tags": []
   },
   "source": [
    "### Simple visualization from xarray plotting method"
   ]
  },
  {
   "cell_type": "code",
   "execution_count": null,
   "id": "14",
   "metadata": {},
   "outputs": [],
   "source": [
    "%%time\n",
    "dset[\"air_temperature_at_2_metres\"].sel(time0=\"2020-06-30T21:00\").plot(cmap=\"coolwarm\")"
   ]
  },
  {
   "cell_type": "markdown",
   "id": "15",
   "metadata": {},
   "source": [
    "## Save intermediate results to local disk \n",
    "- We usually need a lot of customization when plotting so before plotting, make sure to save intermediate results to disk to speed-up your work"
   ]
  },
  {
   "cell_type": "code",
   "execution_count": null,
   "id": "16",
   "metadata": {},
   "outputs": [],
   "source": [
    "%%time\n",
    "dset[\"air_temperature_at_2_metres\"].sel(time0=\"2020-06-30T21:00\").to_netcdf(\n",
    "    \"ERA5_air_temperature_at_2_metres_2020-06-30T2100.nc\"\n",
    ")"
   ]
  },
  {
   "cell_type": "markdown",
   "id": "17",
   "metadata": {},
   "source": [
    "## Save netCDF file into your current galaxy history\n",
    "- This approach is only valid for small datafiles, typically those you will save before plotting\n",
    "- This can be helpful for sharing dataset with your colleagues or if you have to restart your JupyterLab instance"
   ]
  },
  {
   "cell_type": "code",
   "execution_count": null,
   "id": "18",
   "metadata": {},
   "outputs": [],
   "source": [
    "!put -p ERA5_air_temperature_at_2_metres_2020-06-30T2100.nc -t netcdf"
   ]
  },
  {
   "cell_type": "markdown",
   "id": "19",
   "metadata": {},
   "source": [
    "#### Open local file before plotting"
   ]
  },
  {
   "cell_type": "code",
   "execution_count": null,
   "id": "20",
   "metadata": {},
   "outputs": [],
   "source": [
    "dset = xr.open_dataset(\"ERA5_air_temperature_at_2_metres_2020-06-30T2100.nc\")"
   ]
  },
  {
   "cell_type": "markdown",
   "id": "21",
   "metadata": {},
   "source": [
    "#### Same plot but with local file"
   ]
  },
  {
   "cell_type": "code",
   "execution_count": null,
   "id": "22",
   "metadata": {},
   "outputs": [],
   "source": [
    "%%time\n",
    "dset[\"air_temperature_at_2_metres\"].plot(cmap=\"coolwarm\")"
   ]
  },
  {
   "cell_type": "markdown",
   "id": "23",
   "metadata": {},
   "source": [
    "### Customize plot"
   ]
  },
  {
   "cell_type": "markdown",
   "id": "24",
   "metadata": {},
   "source": [
    "#### Set the size of the figure and add coastlines "
   ]
  },
  {
   "cell_type": "code",
   "execution_count": null,
   "id": "25",
   "metadata": {},
   "outputs": [],
   "source": [
    "%%time\n",
    "fig = plt.figure(1, figsize=[30, 13])\n",
    "\n",
    "# Set the projection to use for plotting\n",
    "ax = plt.subplot(1, 1, 1, projection=ccrs.PlateCarree())\n",
    "ax.coastlines()\n",
    "\n",
    "# Pass ax as an argument when plotting. Here we assume data is in the same coordinate reference system than the projection chosen for plotting\n",
    "# isel allows to select by indices instead of the time values\n",
    "dset[\"air_temperature_at_2_metres\"].plot.pcolormesh(ax=ax, cmap=\"coolwarm\")"
   ]
  },
  {
   "cell_type": "markdown",
   "id": "26",
   "metadata": {},
   "source": [
    "#### Change plotting projection"
   ]
  },
  {
   "cell_type": "code",
   "execution_count": null,
   "id": "27",
   "metadata": {},
   "outputs": [],
   "source": [
    "%%time\n",
    "\n",
    "fig = plt.figure(1, figsize=[10, 10])\n",
    "\n",
    "# We're using cartopy and are plotting in Orthographic projection\n",
    "# (see documentation on cartopy)\n",
    "ax = plt.subplot(1, 1, 1, projection=ccrs.Orthographic(0, 90))\n",
    "ax.coastlines()\n",
    "\n",
    "# We need to project our data to the new Orthographic projection and for this we use `transform`.\n",
    "# we set the original data projection in transform (here PlateCarree)\n",
    "dset[\"air_temperature_at_2_metres\"].plot(\n",
    "    ax=ax, transform=ccrs.PlateCarree(), cmap=\"coolwarm\"\n",
    ")\n",
    "\n",
    "# One way to customize your title\n",
    "plt.title(\"ERA5 air temperature at 2 metres\\n 30th June 2020 at 21:00 UTC\", fontsize=18)"
   ]
  },
  {
   "cell_type": "markdown",
   "id": "28",
   "metadata": {},
   "source": [
    "#### Choose extent of values"
   ]
  },
  {
   "cell_type": "code",
   "execution_count": null,
   "id": "29",
   "metadata": {},
   "outputs": [],
   "source": [
    "%%time\n",
    "fig = plt.figure(1, figsize=[10, 10])\n",
    "\n",
    "ax = plt.subplot(1, 1, 1, projection=ccrs.Orthographic(0, 90))\n",
    "ax.coastlines()\n",
    "\n",
    "# Fix extent\n",
    "minval = 240\n",
    "maxval = 310\n",
    "\n",
    "# pass extent with vmin and vmax parameters\n",
    "dset[\"air_temperature_at_2_metres\"].plot(\n",
    "    ax=ax, vmin=minval, vmax=maxval, transform=ccrs.PlateCarree(), cmap=\"coolwarm\"\n",
    ")\n",
    "\n",
    "# One way to customize your title\n",
    "plt.title(\"ERA5 air temperature at 2 metres\\n 30th June 2020 at 21:00 UTC\", fontsize=18)"
   ]
  },
  {
   "cell_type": "markdown",
   "id": "30",
   "metadata": {},
   "source": [
    "### Combine plots with different projections "
   ]
  },
  {
   "cell_type": "code",
   "execution_count": null,
   "id": "31",
   "metadata": {},
   "outputs": [],
   "source": [
    "%%time\n",
    "fig = plt.figure(1, figsize=[20, 10])\n",
    "\n",
    "# Fix extent\n",
    "minval = 240\n",
    "maxval = 310\n",
    "\n",
    "# Plot 1 for Northern Hemisphere subplot argument (nrows, ncols, nplot)\n",
    "# here 1 row, 2 columns and 1st plot\n",
    "ax1 = plt.subplot(1, 2, 1, projection=ccrs.Orthographic(0, 90))\n",
    "\n",
    "# Plot 2 for Southern Hemisphere\n",
    "# 2nd plot\n",
    "ax2 = plt.subplot(1, 2, 2, projection=ccrs.Orthographic(180, -90))\n",
    "\n",
    "tsel = 0\n",
    "for ax, t in zip([ax1, ax2], [\"Northern\", \"Southern\"]):\n",
    "    map = dset[\"air_temperature_at_2_metres\"].plot(\n",
    "        ax=ax,\n",
    "        vmin=minval,\n",
    "        vmax=maxval,\n",
    "        transform=ccrs.PlateCarree(),\n",
    "        cmap=\"coolwarm\",\n",
    "        add_colorbar=False,\n",
    "    )\n",
    "    ax.set_title(t + \" Hemisphere \\n\", fontsize=15)\n",
    "    ax.coastlines()\n",
    "    ax.gridlines()\n",
    "\n",
    "# Title for both plots\n",
    "fig.suptitle(\n",
    "    \"ERA5 Air Temperature at 2 metres\\n 30th June 2020 at 21:00 UTC\", fontsize=20\n",
    ")\n",
    "\n",
    "\n",
    "cb_ax = fig.add_axes([0.325, 0.05, 0.4, 0.04])\n",
    "\n",
    "cbar = plt.colorbar(\n",
    "    map, cax=cb_ax, extend=\"both\", orientation=\"horizontal\", fraction=0.046, pad=0.04\n",
    ")\n",
    "cbar.ax.tick_params(labelsize=25)\n",
    "cbar.ax.set_ylabel(\"K\", fontsize=25)"
   ]
  },
  {
   "cell_type": "code",
   "execution_count": null,
   "id": "32",
   "metadata": {},
   "outputs": [],
   "source": []
  }
 ],
 "metadata": {
  "language_info": {
   "codemirror_mode": {
    "name": "ipython",
    "version": 3
   },
   "file_extension": ".py",
   "mimetype": "text/x-python",
   "name": "python",
   "nbconvert_exporter": "python",
   "pygments_lexer": "ipython3"
  }
 },
 "nbformat": 4,
 "nbformat_minor": 5
}
