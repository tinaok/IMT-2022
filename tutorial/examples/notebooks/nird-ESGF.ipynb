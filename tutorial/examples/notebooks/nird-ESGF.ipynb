{
 "cells": [
  {
   "cell_type": "markdown",
   "id": "0",
   "metadata": {},
   "source": [
    "# Using public data on NIRD using s3 and saving results in private s3 object storage"
   ]
  },
  {
   "cell_type": "markdown",
   "id": "1",
   "metadata": {},
   "source": [
    "<div class=\"alert alert-success alert-info\">\n",
    "    <b>How to discover (spatial and temporal search and subsetting) Obs-CERES-EBAF model output prepared for obs4MIPs OBSERVATIONS dataset</b>\n",
    "    <ul>\n",
    "    <li>We show how to access s3 anonymous data in netCDF, make a geographical area selection and store into zarr on s3 private object storage</li>\n",
    "        <li>We do not address dask (chunking optimization, etc.)</li>\n",
    "    </ul>\n",
    "</div>"
   ]
  },
  {
   "cell_type": "code",
   "execution_count": null,
   "id": "2",
   "metadata": {},
   "outputs": [],
   "source": [
    "import s3fs\n",
    "import xarray as xr"
   ]
  },
  {
   "cell_type": "markdown",
   "id": "3",
   "metadata": {},
   "source": [
    "## Connect to bucket (anonymous login for public data only)"
   ]
  },
  {
   "cell_type": "code",
   "execution_count": null,
   "id": "4",
   "metadata": {},
   "outputs": [],
   "source": [
    "fs = s3fs.S3FileSystem(\n",
    "    anon=True, client_kwargs={\"endpoint_url\": \"https://climate.uiogeo-apps.sigma2.no/\"}\n",
    ")"
   ]
  },
  {
   "cell_type": "markdown",
   "id": "5",
   "metadata": {},
   "source": [
    "### List bucket content"
   ]
  },
  {
   "cell_type": "code",
   "execution_count": null,
   "id": "6",
   "metadata": {},
   "outputs": [],
   "source": [
    "fs.ls(\"ESGF\")"
   ]
  },
  {
   "cell_type": "code",
   "execution_count": null,
   "id": "7",
   "metadata": {},
   "outputs": [],
   "source": [
    "fs.ls(\"ESGF/obs4MIPs/CERES-EBAF/\")"
   ]
  },
  {
   "cell_type": "markdown",
   "id": "8",
   "metadata": {},
   "source": [
    "## Access data files \n",
    "- if netCDF format is used, data access can be slow)\n",
    "- you should try to use cloud zarr format "
   ]
  },
  {
   "cell_type": "code",
   "execution_count": null,
   "id": "9",
   "metadata": {},
   "outputs": [],
   "source": [
    "s3path = \"s3://ESGF/obs4MIPs/CERES-EBAF/*.nc\""
   ]
  },
  {
   "cell_type": "code",
   "execution_count": null,
   "id": "10",
   "metadata": {},
   "outputs": [],
   "source": [
    "remote_files = fs.glob(s3path)"
   ]
  },
  {
   "cell_type": "code",
   "execution_count": null,
   "id": "11",
   "metadata": {},
   "outputs": [],
   "source": [
    "remote_files"
   ]
  },
  {
   "cell_type": "code",
   "execution_count": null,
   "id": "12",
   "metadata": {},
   "outputs": [],
   "source": [
    "# Iterate through remote_files to create a fileset\n",
    "fileset = [fs.open(file) for file in remote_files]\n",
    "\n",
    "# This works\n",
    "dset = xr.open_mfdataset(fileset, combine=\"by_coords\")"
   ]
  },
  {
   "cell_type": "code",
   "execution_count": null,
   "id": "13",
   "metadata": {},
   "outputs": [],
   "source": [
    "dset"
   ]
  },
  {
   "cell_type": "markdown",
   "id": "14",
   "metadata": {},
   "source": [
    "## Shift longitude from 0 to 360 to -180 to 180 for convenience (when subsetting)"
   ]
  },
  {
   "cell_type": "code",
   "execution_count": null,
   "id": "15",
   "metadata": {},
   "outputs": [],
   "source": [
    "dset = dset.assign_coords(lon=(((dset.lon + 180) % 360) - 180)).sortby(\"lon\")"
   ]
  },
  {
   "cell_type": "markdown",
   "id": "16",
   "metadata": {},
   "source": [
    "## Plot a single time"
   ]
  },
  {
   "cell_type": "code",
   "execution_count": null,
   "id": "17",
   "metadata": {},
   "outputs": [],
   "source": [
    "!pip install cmaps"
   ]
  },
  {
   "cell_type": "code",
   "execution_count": null,
   "id": "18",
   "metadata": {},
   "outputs": [],
   "source": [
    "import cartopy.crs as ccrs\n",
    "import matplotlib.pyplot as plt\n",
    "import cmaps"
   ]
  },
  {
   "cell_type": "code",
   "execution_count": null,
   "id": "19",
   "metadata": {},
   "outputs": [],
   "source": [
    "fig = plt.figure(figsize=(20, 10))\n",
    "\n",
    "# We're using cartopy and are plotting in Orthographic projection\n",
    "# (see documentation on cartopy)\n",
    "ax = plt.subplot(\n",
    "    1,\n",
    "    1,\n",
    "    1,\n",
    "    projection=ccrs.AlbersEqualArea(central_longitude=20.0, central_latitude=40.0),\n",
    ")\n",
    "ax.coastlines(resolution=\"10m\")\n",
    "\n",
    "# custom colormap\n",
    "\n",
    "lcmap = cmaps.BlueYellowRed\n",
    "\n",
    "# We need to project our data to the new Mercator projection and for this we use `transform`.\n",
    "# we set the original data projection in transform (here PlateCarree)\n",
    "# we only plot values greather than 0\n",
    "dset[\"rlut\"].sel(time=\"2011-10-16\").sel(lat=slice(50, 90), lon=slice(-10, 50)).plot(\n",
    "    ax=ax, transform=ccrs.PlateCarree(), cmap=lcmap\n",
    ")\n",
    "ax.set_title(\n",
    "    \"Obs-CERES-EBAF model output prepared for obs4MIPs OBSERVATIONS\\n \", fontsize=20\n",
    ")\n",
    "plt.savefig(\"Obs-CERES-EBAF_rlut_2011-10-16.png\")"
   ]
  },
  {
   "cell_type": "markdown",
   "id": "20",
   "metadata": {},
   "source": [
    "## Save results in zarr on NIRD for further analysis\n",
    "- your credentials are in `$HOME/.aws/credentials` \n",
    "- check with your instructor to get the secret access key (replace XXX by the right key)\n",
    "\n",
    "```\n",
    "[default]\n",
    "aws_access_key_id=forces2021-work\n",
    "aws_secret_access_key=XXXXXXXXXXXX\n",
    "aws_endpoint_url=https://forces2021.uiogeo-apps.sigma2.no/\n",
    "```"
   ]
  },
  {
   "cell_type": "code",
   "execution_count": null,
   "id": "21",
   "metadata": {
    "tags": []
   },
   "outputs": [],
   "source": [
    "import fsspec"
   ]
  },
  {
   "cell_type": "markdown",
   "id": "22",
   "metadata": {},
   "source": [
    "### Set the path to your group's location (ask your instructor)"
   ]
  },
  {
   "cell_type": "code",
   "execution_count": null,
   "id": "23",
   "metadata": {},
   "outputs": [],
   "source": [
    "target = fsspec.get_mapper(\n",
    "    \"s3://work/obs4MIPs_CERES-EBAFObs_rlut_rsut.zarr\",\n",
    "    client_kwargs={\"endpoint_url\": \"https://forces2021.uiogeo-apps.sigma2.no/\"},\n",
    ")"
   ]
  },
  {
   "cell_type": "code",
   "execution_count": null,
   "id": "24",
   "metadata": {},
   "outputs": [],
   "source": [
    "dset.sel(lat=slice(50, 90), lon=slice(-10, 50)).to_zarr(\n",
    "    store=target, mode=\"w\", consolidated=True, compute=True\n",
    ")"
   ]
  },
  {
   "cell_type": "markdown",
   "id": "25",
   "metadata": {},
   "source": [
    "## Check what you have stored in s3\n",
    "\n",
    "- we use https://forces2021.uiogeo-apps.sigma2.no/ as an endpoint\n",
    "- we need to authenticate to access data (anon=False)"
   ]
  },
  {
   "cell_type": "markdown",
   "id": "26",
   "metadata": {},
   "source": [
    "### Initilize the S3 file system"
   ]
  },
  {
   "cell_type": "code",
   "execution_count": null,
   "id": "27",
   "metadata": {},
   "outputs": [],
   "source": [
    "fsg = s3fs.S3FileSystem(\n",
    "    anon=False,\n",
    "    client_kwargs={\"endpoint_url\": \"https://forces2021.uiogeo-apps.sigma2.no/\"},\n",
    ")"
   ]
  },
  {
   "cell_type": "code",
   "execution_count": null,
   "id": "28",
   "metadata": {},
   "outputs": [],
   "source": [
    "fsg.ls(\"work\")"
   ]
  },
  {
   "cell_type": "markdown",
   "id": "29",
   "metadata": {},
   "source": [
    "### Set path to s3 data"
   ]
  },
  {
   "cell_type": "code",
   "execution_count": null,
   "id": "30",
   "metadata": {},
   "outputs": [],
   "source": [
    "s3_path = \"s3://work/obs4MIPs_CERES-EBAFObs_rlut_rsut.zarr\""
   ]
  },
  {
   "cell_type": "markdown",
   "id": "31",
   "metadata": {},
   "source": [
    "### Initialize the S3 filesystem "
   ]
  },
  {
   "cell_type": "code",
   "execution_count": null,
   "id": "32",
   "metadata": {},
   "outputs": [],
   "source": [
    "store = s3fs.S3Map(root=s3_path, s3=fsg, check=False)"
   ]
  },
  {
   "cell_type": "code",
   "execution_count": null,
   "id": "33",
   "metadata": {
    "tags": []
   },
   "outputs": [],
   "source": [
    "ds = xr.open_zarr(store=store, consolidated=True)"
   ]
  },
  {
   "cell_type": "code",
   "execution_count": null,
   "id": "34",
   "metadata": {},
   "outputs": [],
   "source": [
    "ds"
   ]
  },
  {
   "cell_type": "markdown",
   "id": "35",
   "metadata": {},
   "source": [
    "### Plot TOA outgoing shortwave Radiation\n",
    "- Note that there is no need to select an area because the s3 dataset only cover the area of interest (selected when saving dataset in s3 storage)"
   ]
  },
  {
   "cell_type": "code",
   "execution_count": null,
   "id": "36",
   "metadata": {},
   "outputs": [],
   "source": [
    "fig = plt.figure(figsize=(20, 10))\n",
    "\n",
    "# We're using cartopy and are plotting in Orthographic projection\n",
    "# (see documentation on cartopy)\n",
    "ax = plt.subplot(\n",
    "    1,\n",
    "    1,\n",
    "    1,\n",
    "    projection=ccrs.AlbersEqualArea(central_longitude=20.0, central_latitude=40.0),\n",
    ")\n",
    "ax.coastlines(resolution=\"10m\")\n",
    "\n",
    "# custom colormap\n",
    "\n",
    "lcmap = cmaps.BlueYellowRed\n",
    "\n",
    "# We need to project our data to the new Mercator projection and for this we use `transform`.\n",
    "# we set the original data projection in transform (here PlateCarree)\n",
    "# we only plot values greather than 0\n",
    "ds[\"rsut\"].sel(time=\"2011-10-16\").plot(ax=ax, transform=ccrs.PlateCarree(), cmap=lcmap)\n",
    "ax.set_title(\n",
    "    \"Obs-CERES-EBAF model output prepared for obs4MIPs OBSERVATIONS\\n TOA outgoing shortwave Radiation\\n\"\n",
    "    + str(ds.time.sel(time=\"2011-10-16\").dt.strftime(\"%B %d, %Y, %r\").values[0]),\n",
    "    fontsize=20,\n",
    ")\n",
    "plt.savefig(\"Obs-CERES-EBAF_rsut_2011-10-16.png\")"
   ]
  },
  {
   "cell_type": "code",
   "execution_count": null,
   "id": "37",
   "metadata": {},
   "outputs": [],
   "source": []
  }
 ],
 "metadata": {
  "language_info": {
   "codemirror_mode": {
    "name": "ipython",
    "version": 3
   },
   "file_extension": ".py",
   "mimetype": "text/x-python",
   "name": "python",
   "nbconvert_exporter": "python",
   "pygments_lexer": "ipython3"
  }
 },
 "nbformat": 4,
 "nbformat_minor": 5
}
