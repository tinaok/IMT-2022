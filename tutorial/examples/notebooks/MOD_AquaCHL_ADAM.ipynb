{
 "cells": [
  {
   "cell_type": "markdown",
   "id": "0",
   "metadata": {},
   "source": [
    "# Using ADAM-API to access MODIS Aqua CHL\n",
    "\n",
    "- you need to get an account to https://reliance.adamplatform.eu/ (use ORCID to authenticate) and key your ADAM API key\n",
    "- make sure you save your ADAM API key in a file `$HOME/adam-key`"
   ]
  },
  {
   "cell_type": "code",
   "execution_count": null,
   "id": "1",
   "metadata": {},
   "outputs": [],
   "source": [
    "!pip install adamapi"
   ]
  },
  {
   "cell_type": "code",
   "execution_count": null,
   "id": "2",
   "metadata": {},
   "outputs": [],
   "source": [
    "import os\n",
    "import glob\n",
    "import pathlib\n",
    "import zipfile\n",
    "import adamapi as adam\n",
    "import xarray as xr\n",
    "from datetime import datetime\n",
    "import matplotlib\n",
    "import matplotlib.pyplot as plt\n",
    "import cartopy.crs as ccrs\n",
    "import cmaps"
   ]
  },
  {
   "cell_type": "markdown",
   "id": "3",
   "metadata": {},
   "source": [
    "## Authenticate to ADAM platform with ADAM API key"
   ]
  },
  {
   "cell_type": "code",
   "execution_count": null,
   "id": "4",
   "metadata": {},
   "outputs": [],
   "source": [
    "adam_key = open(os.path.join(os.environ[\"HOME\"], \"adam-key\")).read().rstrip()"
   ]
  },
  {
   "cell_type": "code",
   "execution_count": null,
   "id": "5",
   "metadata": {},
   "outputs": [],
   "source": [
    "a = adam.Auth()\n",
    "\n",
    "a.setKey(adam_key)\n",
    "a.setAdamCore(\"https://reliance.adamplatform.eu\")\n",
    "a.authorize()"
   ]
  },
  {
   "cell_type": "markdown",
   "id": "6",
   "metadata": {},
   "source": [
    "## Discover MOD_Aqua datasets \n",
    "- This step is useful to get the dataset identifier (unique for a given datacube)"
   ]
  },
  {
   "cell_type": "code",
   "execution_count": null,
   "id": "7",
   "metadata": {},
   "outputs": [],
   "source": [
    "def discoverDasasets(a, search_name):\n",
    "    datasets = adam.Datasets(a)\n",
    "    catalogue = datasets.getDatasets()\n",
    "    # Extracting the size of the catalogue\n",
    "    total = catalogue[\"properties\"][\"totalResults\"]\n",
    "    items = catalogue[\"properties\"][\"itemsPerPage\"]\n",
    "    pages = total // items\n",
    "\n",
    "    print(\"----------------------------------------------------------------------\")\n",
    "    print(\"\\033[1m\" + \"List of available datasets:\")\n",
    "    print(\"\\033[0m\")\n",
    "\n",
    "    # Extracting the list of datasets across the whole catalogue\n",
    "    for i in range(0, pages):\n",
    "        page = datasets.getDatasets(page=i)\n",
    "        for element in page[\"content\"]:\n",
    "            if search_name in element[\"title\"]:\n",
    "                print(\n",
    "                    element[\"title\"]\n",
    "                    + \"\\033[1m\"\n",
    "                    + \" --> datasetId \"\n",
    "                    + \"\\033[0m\"\n",
    "                    + \"= \"\n",
    "                    + element[\"datasetId\"]\n",
    "                )\n",
    "    return datasets"
   ]
  },
  {
   "cell_type": "code",
   "execution_count": null,
   "id": "8",
   "metadata": {},
   "outputs": [],
   "source": [
    "datasets = discoverDasasets(a, \"MOD_Aqua\")"
   ]
  },
  {
   "cell_type": "markdown",
   "id": "9",
   "metadata": {},
   "source": [
    "## Get metadata from Modis Aqua Chlorophylle Concentration"
   ]
  },
  {
   "cell_type": "code",
   "execution_count": null,
   "id": "10",
   "metadata": {},
   "outputs": [],
   "source": [
    "datasetID = \"69618:MODh20chlMO_4km\"\n",
    "\n",
    "print(\"\\033[1;34m\" + \"Metadata of \" + datasetID + \":\")\n",
    "print(\"\\033[0;0m\")\n",
    "\n",
    "paged = datasets.getDatasets(datasetID)\n",
    "for i in paged.items():\n",
    "    print(\"\\033[1m\" + str(i[0]) + \"\\033[0m\" + \": \" + str(i[1]))"
   ]
  },
  {
   "cell_type": "markdown",
   "id": "11",
   "metadata": {},
   "source": [
    "## Discover and select products from a dataset\n",
    "- for a given time range and spatial coverage"
   ]
  },
  {
   "cell_type": "markdown",
   "id": "12",
   "metadata": {},
   "source": [
    "### Get data over Artic region\n",
    "- The geometry field is extracted from a GeoJSON object , retrieving the value of the \"feature\" element."
   ]
  },
  {
   "cell_type": "markdown",
   "id": "13",
   "metadata": {},
   "source": [
    "#### Search data\n",
    "- only print the first 10 products"
   ]
  },
  {
   "cell_type": "code",
   "execution_count": null,
   "id": "14",
   "metadata": {},
   "outputs": [],
   "source": [
    "from adamapi import Search"
   ]
  },
  {
   "cell_type": "markdown",
   "id": "15",
   "metadata": {},
   "source": [
    "The GeoJson object needs to be rearranged according to the counterclockwise winding order.This operation is executed in the next few lines to obtain a geometry that meets the requirements of the method. Geom_1 is the final result to be used in the discovery operation."
   ]
  },
  {
   "cell_type": "code",
   "execution_count": null,
   "id": "16",
   "metadata": {},
   "outputs": [],
   "source": [
    "geom_1 = \"{'type': 'Polygon', 'coordinates': [[[-180, 90], [180, 90], [180, 60], [-180, 60], [-180, 90]]]}\""
   ]
  },
  {
   "cell_type": "code",
   "execution_count": null,
   "id": "17",
   "metadata": {},
   "outputs": [],
   "source": [
    "start_date = \"2003-01-01\"\n",
    "end_date = \"2003-12-31\""
   ]
  },
  {
   "cell_type": "code",
   "execution_count": null,
   "id": "18",
   "metadata": {
    "tags": []
   },
   "outputs": [],
   "source": [
    "search = Search(a)\n",
    "results = search.getProducts(\n",
    "    datasetID, geometry=geom_1, startDate=start_date, endDate=end_date\n",
    ")\n",
    "\n",
    "# Printing the results\n",
    "\n",
    "print(\"\\033[1m\" + \"List of available products:\")\n",
    "print(\"\\033[0m\")\n",
    "count = 1\n",
    "for i in results[\"content\"]:\n",
    "\n",
    "    print(\"\\033[1;31;1m\" + \"#\" + str(count))\n",
    "    print(\"\\033[0m\")\n",
    "    for k in i.items():\n",
    "        print(str(k[0]) + \": \" + str(k[1]))\n",
    "    count = count + 1\n",
    "    print(\"------------------------------------\")"
   ]
  },
  {
   "cell_type": "markdown",
   "id": "19",
   "metadata": {},
   "source": [
    "## Get data\n",
    "- be aware that you alwasy get daily average from ADAM-API "
   ]
  },
  {
   "cell_type": "code",
   "execution_count": null,
   "id": "20",
   "metadata": {},
   "outputs": [],
   "source": [
    "def getZipData(auth, dataset_info):\n",
    "    if not (\n",
    "        pathlib.Path(pathlib.Path(dataset_info[\"outputFname\"]).stem).exists()\n",
    "        or pathlib.Path(dataset_info[\"outputFname\"]).exists()\n",
    "    ):\n",
    "        data = adam.GetData(auth)\n",
    "        image = data.getData(\n",
    "            datasetId=dataset_info[\"datasetID\"],\n",
    "            startDate=dataset_info[\"startDate\"],\n",
    "            endDate=dataset_info[\"endDate\"],\n",
    "            geometry=dataset_info[\"geometry\"],\n",
    "            outputFname=dataset_info[\"outputFname\"],\n",
    "        )\n",
    "        print(image)"
   ]
  },
  {
   "cell_type": "code",
   "execution_count": null,
   "id": "21",
   "metadata": {},
   "outputs": [],
   "source": [
    "%%time\n",
    "\n",
    "output_file = (\n",
    "    \"./MOD_Aqua_mass_concentration_chlorophyll_concentration_in_sea_water_\"\n",
    "    + start_date\n",
    "    + \"-\"\n",
    "    + end_date\n",
    "    + \".zip\"\n",
    ")\n",
    "\n",
    "datasetInfo = {\n",
    "    \"datasetID\": datasetID,\n",
    "    \"startDate\": start_date,\n",
    "    \"endDate\": end_date,\n",
    "    \"geometry\": geom_1,\n",
    "    \"outputFname\": output_file,\n",
    "}\n",
    "getZipData(a, datasetInfo)"
   ]
  },
  {
   "cell_type": "markdown",
   "id": "22",
   "metadata": {},
   "source": [
    "## Data analysis and Visualization"
   ]
  },
  {
   "cell_type": "markdown",
   "id": "23",
   "metadata": {},
   "source": [
    "### Unzip data "
   ]
  },
  {
   "cell_type": "code",
   "execution_count": null,
   "id": "24",
   "metadata": {},
   "outputs": [],
   "source": [
    "def unzipData(filename):\n",
    "    with zipfile.ZipFile(filename, \"r\") as zip_ref:\n",
    "        zip_ref.extractall(path=pathlib.Path(filename).stem)"
   ]
  },
  {
   "cell_type": "code",
   "execution_count": null,
   "id": "25",
   "metadata": {},
   "outputs": [],
   "source": [
    "if not pathlib.Path(pathlib.Path(output_file).stem).exists():\n",
    "    unzipData(output_file)"
   ]
  },
  {
   "cell_type": "markdown",
   "id": "26",
   "metadata": {},
   "source": [
    "## Read data in xarray"
   ]
  },
  {
   "cell_type": "code",
   "execution_count": null,
   "id": "27",
   "metadata": {},
   "outputs": [],
   "source": [
    "def paths_to_datetimeindex(paths):\n",
    "    return [\n",
    "        datetime.strptime(date.split(\"_\")[-1].split(\".\")[0], \"%Y-%m-%dt%f\")\n",
    "        for date in paths\n",
    "    ]"
   ]
  },
  {
   "cell_type": "code",
   "execution_count": null,
   "id": "28",
   "metadata": {},
   "outputs": [],
   "source": [
    "def getData(dirtif, varname):\n",
    "    geotiff_list = glob.glob(dirtif)\n",
    "    # Create variable used for time axis\n",
    "    time_var = xr.Variable(\"time\", paths_to_datetimeindex(geotiff_list))\n",
    "    # Load in and concatenate all individual GeoTIFFs\n",
    "    geotiffs_da = xr.concat(\n",
    "        [xr.open_rasterio(i, parse_coordinates=True) for i in geotiff_list],\n",
    "        dim=time_var,\n",
    "    )\n",
    "    # Covert our xarray.DataArray into a xarray.Dataset\n",
    "    geotiffs_da = geotiffs_da.to_dataset(\"band\")\n",
    "    # Rename the dimensions to make it CF-convention compliant\n",
    "    geotiffs_da = geotiffs_da.rename_dims({\"y\": \"latitude\", \"x\": \"longitude\"})\n",
    "    # Rename the variable to a more useful name\n",
    "    geotiffs_da = geotiffs_da.rename_vars(\n",
    "        {1: varname, \"y\": \"latitude\", \"x\": \"longitude\"}\n",
    "    )\n",
    "    # set attribute to variable\n",
    "    geotiffs_da[varname].attrs = {\n",
    "        \"units\": geotiffs_da.attrs[varname + \"#units\"],\n",
    "        \"long_name\": geotiffs_da.attrs[varname + \"#long_name\"],\n",
    "    }\n",
    "    return geotiffs_da"
   ]
  },
  {
   "cell_type": "code",
   "execution_count": null,
   "id": "29",
   "metadata": {},
   "outputs": [],
   "source": [
    "path_files = os.path.join(pathlib.Path(output_file).stem, \"*.tif\")\n",
    "geotiff_ds = getData(path_files, \"chlor_a\")"
   ]
  },
  {
   "cell_type": "code",
   "execution_count": null,
   "id": "30",
   "metadata": {},
   "outputs": [],
   "source": [
    "geotiff_ds"
   ]
  },
  {
   "cell_type": "markdown",
   "id": "31",
   "metadata": {},
   "source": [
    "## Visualization"
   ]
  },
  {
   "cell_type": "code",
   "execution_count": null,
   "id": "32",
   "metadata": {},
   "outputs": [],
   "source": [
    "fig = plt.figure(figsize=(17, 10))\n",
    "# Define the projection\n",
    "crs = ccrs.PlateCarree()\n",
    "\n",
    "# We're using cartopy and are plotting in Orthographic projection\n",
    "# (see documentation on cartopy)\n",
    "ax = plt.subplot(1, 1, 1, projection=ccrs.Mercator(central_longitude=12.0))\n",
    "ax.coastlines(resolution=\"10m\")\n",
    "\n",
    "# We need to project our data to the new Mercator projection and for this we use `transform`.\n",
    "# we set the original data projection in transform (here PlateCarree)\n",
    "# we only plot values greather than 0\n",
    "img = (\n",
    "    geotiff_ds[\"chlor_a\"]\n",
    "    .isel(time=0)\n",
    "    .plot(ax=ax, transform=ccrs.PlateCarree(), vmin=0, vmax=1, cmap=cmaps.BlueYellowRed)\n",
    ")\n",
    "\n",
    "# Title for plot\n",
    "plt.title(\n",
    "    \"Mass concentration chlorophyll concentration in sea water \\n\",\n",
    "    fontsize=16,\n",
    "    fontweight=\"bold\",\n",
    "    pad=10,\n",
    ")\n",
    "plt.savefig(\"Mod_Aqua-chlor_ARCTIC.png\")"
   ]
  },
  {
   "cell_type": "code",
   "execution_count": null,
   "id": "33",
   "metadata": {
    "tags": []
   },
   "outputs": [],
   "source": [
    "geotiff_ds[\"chlor_a\"].to_netcdf(\"MOD_Aqua_Chl_arctic_2003.nc\")"
   ]
  },
  {
   "cell_type": "code",
   "execution_count": null,
   "id": "34",
   "metadata": {},
   "outputs": [],
   "source": []
  }
 ],
 "metadata": {
  "language_info": {
   "codemirror_mode": {
    "name": "ipython",
    "version": 3
   },
   "file_extension": ".py",
   "mimetype": "text/x-python",
   "name": "python",
   "nbconvert_exporter": "python",
   "pygments_lexer": "ipython3"
  }
 },
 "nbformat": 4,
 "nbformat_minor": 5
}
