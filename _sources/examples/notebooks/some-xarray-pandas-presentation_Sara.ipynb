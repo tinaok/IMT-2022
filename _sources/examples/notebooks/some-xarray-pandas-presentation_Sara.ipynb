{
 "cells": [
  {
   "cell_type": "markdown",
   "metadata": {},
   "source": [
    "# Some tips with xarray and pandas\n",
    "\n",
    "- We have massively different levels here\n",
    "- Try to make some aims for technical skills you can learn!\n",
    "- If you are beginning with python --> learn the basics\n",
    "- If you are good at basic python --> learn new packages\n",
    "- If you know all the packages --> improve your skills with producing your own software etc. \n",
    "- If you don't know git and github --> get better at this!\n"
   ]
  },
  {
   "cell_type": "markdown",
   "metadata": {},
   "source": [
    "## What are pandas and xarray?\n",
    "- Pandas --> like a spreadsheet 2D data with columns and rows\n",
    "- xarray --> like pandas, but in N dimensions"
   ]
  },
  {
   "cell_type": "code",
   "execution_count": null,
   "metadata": {},
   "outputs": [],
   "source": [
    "!wget 'https://zenodo.org/record/5639504/files/OsloAeroSec2011-3_subset2.nc'"
   ]
  },
  {
   "cell_type": "markdown",
   "metadata": {
    "tags": []
   },
   "source": [
    "# Some examples with xarray and pandas:"
   ]
  },
  {
   "cell_type": "code",
   "execution_count": null,
   "metadata": {
    "tags": []
   },
   "outputs": [],
   "source": [
    "import xarray as xr\n",
    "import numpy as np\n",
    "import matplotlib.pyplot as plt\n",
    "import pandas as pd\n",
    "import datetime\n",
    "import seaborn as sns"
   ]
  },
  {
   "cell_type": "markdown",
   "metadata": {
    "tags": []
   },
   "source": [
    "# Reading in the data:"
   ]
  },
  {
   "cell_type": "code",
   "execution_count": null,
   "metadata": {
    "tags": []
   },
   "outputs": [],
   "source": [
    "path = \"OsloAeroSec2011-3_subset2.nc\"\n",
    "ds = xr.open_dataset(path)"
   ]
  },
  {
   "cell_type": "markdown",
   "metadata": {
    "tags": []
   },
   "source": [
    "##### Opening multiple files:"
   ]
  },
  {
   "cell_type": "markdown",
   "metadata": {
    "tags": []
   },
   "source": [
    "```python\n",
    "\n",
    "list_of_files = [\n",
    "    'file1.nc',\n",
    "    'file2.nc'\n",
    "]\n",
    "xr.open_mfdataset(list_of_files, concat_dim='time',combine='by_coords')\n",
    "```"
   ]
  },
  {
   "cell_type": "markdown",
   "metadata": {
    "tags": []
   },
   "source": [
    "### Check how your dataset looks"
   ]
  },
  {
   "cell_type": "markdown",
   "metadata": {
    "tags": []
   },
   "source": [
    "#### Different types of information/data:\n",
    "- Coordinates\n",
    "- Data variables\n",
    "- Global attributes\n",
    "- Variable attributes"
   ]
  },
  {
   "cell_type": "code",
   "execution_count": null,
   "metadata": {},
   "outputs": [],
   "source": [
    "ds"
   ]
  },
  {
   "cell_type": "markdown",
   "metadata": {
    "tags": []
   },
   "source": [
    "## Sometimes we want to do some nice tweaks before we start: "
   ]
  },
  {
   "cell_type": "code",
   "execution_count": null,
   "metadata": {
    "tags": []
   },
   "outputs": [],
   "source": [
    "ds[\"T\"]"
   ]
  },
  {
   "cell_type": "markdown",
   "metadata": {
    "tags": []
   },
   "source": [
    "Assign attributes! Nice for plotting and to keep track of what is in your dataset (especially 'units' and 'standard_name'/'long_name' will be looked for by xarray."
   ]
  },
  {
   "cell_type": "code",
   "execution_count": null,
   "metadata": {
    "tags": []
   },
   "outputs": [],
   "source": [
    "ds[\"T_C\"] = ds[\"T\"] - 273.15\n",
    "\n",
    "ds[\"T_C\"] = ds[\"T_C\"].assign_attrs({\"units\": \"$^\\circ$C\"})"
   ]
  },
  {
   "cell_type": "markdown",
   "metadata": {
    "tags": []
   },
   "source": [
    "### May always be small things you need to adjust: "
   ]
  },
  {
   "cell_type": "code",
   "execution_count": null,
   "metadata": {
    "tags": []
   },
   "outputs": [],
   "source": [
    "ds[\"time\"]"
   ]
  },
  {
   "cell_type": "markdown",
   "metadata": {
    "tags": []
   },
   "source": [
    "This data in particular has an issue that the date is the end of the month, which gets read as the first of the next month. So I usually just to a quick fix and subtract roughly 15 days (half a month) "
   ]
  },
  {
   "cell_type": "code",
   "execution_count": null,
   "metadata": {
    "tags": []
   },
   "outputs": [],
   "source": [
    "t_corrected = pd.to_datetime(ds[\"time\"].values) - datetime.timedelta(days=15)\n",
    "ds[\"time\"] = t_corrected"
   ]
  },
  {
   "cell_type": "code",
   "execution_count": null,
   "metadata": {
    "tags": []
   },
   "outputs": [],
   "source": [
    "ds[\"time\"]"
   ]
  },
  {
   "cell_type": "markdown",
   "metadata": {
    "tags": []
   },
   "source": [
    "### Convert longitude: \n",
    "this data comes in 0--360 degrees, but often -180 to 180 is more convenient. So we can convert:"
   ]
  },
  {
   "cell_type": "markdown",
   "metadata": {
    "tags": []
   },
   "source": [
    "**NOTE:** Maybe you want to put this in a module? Or a package.. "
   ]
  },
  {
   "cell_type": "code",
   "execution_count": null,
   "metadata": {
    "tags": []
   },
   "outputs": [],
   "source": [
    "ds"
   ]
  },
  {
   "cell_type": "code",
   "execution_count": null,
   "metadata": {
    "tags": []
   },
   "outputs": [],
   "source": [
    "def convert360_180(_ds):\n",
    "    \"\"\"\n",
    "    convert longitude from 0-360 to -180 -- 180 deg\n",
    "    \"\"\"\n",
    "    # check if already\n",
    "    attrs = _ds[\"lon\"].attrs\n",
    "    if _ds[\"lon\"].min() >= 0:\n",
    "        with xr.set_options(keep_attrs=True):\n",
    "            _ds.coords[\"lon\"] = (_ds[\"lon\"] + 180) % 360 - 180\n",
    "        _ds = _ds.sortby(\"lon\")\n",
    "    return _ds"
   ]
  },
  {
   "cell_type": "markdown",
   "metadata": {
    "tags": []
   },
   "source": [
    "(migth want to move this to a module!) "
   ]
  },
  {
   "cell_type": "code",
   "execution_count": null,
   "metadata": {
    "tags": []
   },
   "outputs": [],
   "source": [
    "ds = convert360_180(ds)"
   ]
  },
  {
   "cell_type": "code",
   "execution_count": null,
   "metadata": {
    "tags": []
   },
   "outputs": [],
   "source": [
    "ds[\"lon\"]"
   ]
  },
  {
   "cell_type": "markdown",
   "metadata": {
    "tags": []
   },
   "source": [
    "Let's pick out only the surface layer.\n",
    "It's the last one:"
   ]
  },
  {
   "cell_type": "markdown",
   "metadata": {
    "tags": []
   },
   "source": [
    "# Selecting data and super quick plotting:"
   ]
  },
  {
   "cell_type": "markdown",
   "metadata": {
    "tags": []
   },
   "source": [
    "xarray loads data only when it needs to (it's lazy, Anne can explain), and you might want to early on define the subset of data you want to look at so that you don't end up loading a lot of extra data. \n"
   ]
  },
  {
   "cell_type": "markdown",
   "metadata": {
    "tags": []
   },
   "source": [
    "##### See [here](http://xarray.pydata.org/en/stable/user-guide/indexing.html) for nice overview"
   ]
  },
  {
   "cell_type": "markdown",
   "metadata": {
    "tags": []
   },
   "source": [
    "#### isel, sel"
   ]
  },
  {
   "cell_type": "code",
   "execution_count": null,
   "metadata": {
    "tags": []
   },
   "outputs": [],
   "source": [
    "ds_s = ds.isel(lev=-1)"
   ]
  },
  {
   "cell_type": "code",
   "execution_count": null,
   "metadata": {},
   "outputs": [],
   "source": [
    "ds_s"
   ]
  },
  {
   "cell_type": "code",
   "execution_count": null,
   "metadata": {
    "tags": []
   },
   "outputs": [],
   "source": [
    "ds_s[\"T_C\"].isel(time=0).plot()"
   ]
  },
  {
   "cell_type": "markdown",
   "metadata": {
    "tags": []
   },
   "source": [
    "Notice how the labels use both the attribute \"standard_name\" and \"units\" from the dataset. "
   ]
  },
  {
   "cell_type": "code",
   "execution_count": null,
   "metadata": {
    "tags": []
   },
   "outputs": [],
   "source": [
    "ds[\"T_C\"].sel(lev=1000.0, lon=0, method=\"nearest\").plot(x=\"time\")"
   ]
  },
  {
   "cell_type": "markdown",
   "metadata": {
    "tags": []
   },
   "source": [
    "### Slice:"
   ]
  },
  {
   "cell_type": "code",
   "execution_count": null,
   "metadata": {
    "tags": []
   },
   "outputs": [],
   "source": [
    "ds_s[\"T_C\"].sel(lat=slice(0, 90)).isel(time=0).plot()"
   ]
  },
  {
   "cell_type": "markdown",
   "metadata": {
    "tags": []
   },
   "source": [
    "### Super quick averaging etc"
   ]
  },
  {
   "cell_type": "code",
   "execution_count": null,
   "metadata": {
    "tags": []
   },
   "outputs": [],
   "source": [
    "da_T = ds[\"T_C\"]"
   ]
  },
  {
   "cell_type": "markdown",
   "metadata": {
    "tags": []
   },
   "source": [
    "Mean: \n"
   ]
  },
  {
   "cell_type": "code",
   "execution_count": null,
   "metadata": {
    "tags": []
   },
   "outputs": [],
   "source": [
    "da_T.mean([\"time\", \"lon\"]).plot(ylim=[1000, 100], yscale=\"log\")"
   ]
  },
  {
   "cell_type": "markdown",
   "metadata": {
    "tags": []
   },
   "source": [
    "Standard deviation"
   ]
  },
  {
   "cell_type": "code",
   "execution_count": null,
   "metadata": {
    "tags": []
   },
   "outputs": [],
   "source": [
    "da_T.isel(lev=-1).std([\"time\"]).plot()"
   ]
  },
  {
   "cell_type": "markdown",
   "metadata": {
    "tags": []
   },
   "source": [
    "Temperature change much stronger over land than ocean..."
   ]
  },
  {
   "cell_type": "markdown",
   "metadata": {
    "tags": []
   },
   "source": [
    "## Seasonal average"
   ]
  },
  {
   "cell_type": "code",
   "execution_count": null,
   "metadata": {},
   "outputs": [],
   "source": [
    "month = (ds[\"time.month\"] == 7) | (ds[\"time.month\"] == 8)"
   ]
  },
  {
   "cell_type": "code",
   "execution_count": null,
   "metadata": {},
   "outputs": [],
   "source": [
    "ds_sum = ds.where(month).mean(\"time\")"
   ]
  },
  {
   "cell_type": "code",
   "execution_count": null,
   "metadata": {},
   "outputs": [],
   "source": [
    "ds_sum"
   ]
  },
  {
   "cell_type": "code",
   "execution_count": null,
   "metadata": {
    "tags": []
   },
   "outputs": [],
   "source": [
    "ds_season = ds.groupby(\"time.season\").mean()"
   ]
  },
  {
   "cell_type": "code",
   "execution_count": null,
   "metadata": {
    "tags": []
   },
   "outputs": [],
   "source": [
    "ds_season"
   ]
  },
  {
   "cell_type": "code",
   "execution_count": null,
   "metadata": {
    "tags": []
   },
   "outputs": [],
   "source": [
    "ds_season[\"T_C\"].isel(lev=-1).plot(col=\"season\")"
   ]
  },
  {
   "cell_type": "markdown",
   "metadata": {
    "tags": []
   },
   "source": [
    "## Controle the plot visuals:"
   ]
  },
  {
   "cell_type": "code",
   "execution_count": null,
   "metadata": {
    "tags": []
   },
   "outputs": [],
   "source": [
    "# lets plot the wind fields\n",
    "_ds = ds_s[[\"V\", \"U\"]]\n",
    "_da = np.sqrt(_ds[\"V\"] ** 2 + _ds[\"U\"] ** 2)\n",
    "\n",
    "# _da.attrs['long_name'] = 'Wind speed'\n",
    "# _da.attrs['units'] = 'm/s'"
   ]
  },
  {
   "cell_type": "code",
   "execution_count": null,
   "metadata": {
    "tags": []
   },
   "outputs": [],
   "source": [
    "f, ax = plt.subplots(dpi=100)\n",
    "_dm = _da.isel(time=0)\n",
    "_dm.plot(cmap=plt.get_cmap(\"Reds\"), ax=ax, cbar_kwargs={\"label\": \"Wind Speed [m/s]\"})\n",
    "\n",
    "\n",
    "_ds = ds_s.isel(time=0, lon=slice(0, None, 2), lat=slice(0, None, 2))\n",
    "ax.quiver(\n",
    "    _ds[\"lon\"],\n",
    "    _ds[\"lat\"],\n",
    "    _ds[\"U\"],\n",
    "    _ds[\"V\"],\n",
    "    scale=300,\n",
    ")\n",
    "\n",
    "# ax.set_title('Wind strength and pattern')\n",
    "# ax.set_xlabel('Longitude [$^\\circ$E]')"
   ]
  },
  {
   "cell_type": "markdown",
   "metadata": {
    "tags": []
   },
   "source": [
    "# Plotting with cartopy"
   ]
  },
  {
   "cell_type": "code",
   "execution_count": null,
   "metadata": {
    "tags": []
   },
   "outputs": [],
   "source": [
    "import cartopy as cy\n",
    "import cartopy.crs as ccrs"
   ]
  },
  {
   "cell_type": "code",
   "execution_count": null,
   "metadata": {
    "tags": []
   },
   "outputs": [],
   "source": [
    "f, ax = plt.subplots(dpi=100, subplot_kw={\"projection\": ccrs.PlateCarree()})\n",
    "\n",
    "\n",
    "_dm.plot.pcolormesh(\n",
    "    cmap=plt.get_cmap(\"Reds\"),\n",
    "    ax=ax,\n",
    "    cbar_kwargs={\n",
    "        \"label\": \"Wind Speed [m/s]\",\n",
    "        \"orientation\": \"horizontal\",\n",
    "    },\n",
    "    transform=ccrs.PlateCarree(),\n",
    "    x=\"lon\",\n",
    "    y=\"lat\",\n",
    "    levels=6,\n",
    ")\n",
    "ax.set_title(\"ilev:0; Mean over Time\")\n",
    "ax.coastlines()\n",
    "\n",
    "gl = ax.gridlines(draw_labels=True)\n",
    "gl.xlabels_top = False\n",
    "gl.ylabels_right = False\n",
    "\n",
    "ax.add_feature(cy.feature.BORDERS);"
   ]
  },
  {
   "cell_type": "markdown",
   "metadata": {
    "tags": []
   },
   "source": [
    "# Convert to pandas & do some random fun stuff: "
   ]
  },
  {
   "cell_type": "markdown",
   "metadata": {
    "tags": []
   },
   "source": [
    "Maybe we e.g. want to compare with a station, or just use some of the considerable functionalities available from pandas. It's easy to convert back and forth between xarray and pandas:"
   ]
  },
  {
   "cell_type": "markdown",
   "metadata": {
    "tags": []
   },
   "source": [
    "## Pick out station: "
   ]
  },
  {
   "cell_type": "markdown",
   "metadata": {
    "tags": []
   },
   "source": [
    "Lets pick out Tjärnö research station!\n"
   ]
  },
  {
   "cell_type": "code",
   "execution_count": null,
   "metadata": {
    "tags": []
   },
   "outputs": [],
   "source": [
    "lat_tjarno = 58.9\n",
    "lon_tjarno = 11.1\n",
    "# pick out surface\n",
    "ds_surf = ds.isel(lev=-1)\n",
    "ds_tjarno = ds_surf.sel(lat=lat_tjarno, lon=lon_tjarno, method=\"nearest\")"
   ]
  },
  {
   "cell_type": "markdown",
   "metadata": {
    "tags": []
   },
   "source": [
    "### Resample:"
   ]
  },
  {
   "cell_type": "code",
   "execution_count": null,
   "metadata": {
    "tags": []
   },
   "outputs": [],
   "source": [
    "df_tjarno = ds_tjarno.to_dataframe()"
   ]
  },
  {
   "cell_type": "code",
   "execution_count": null,
   "metadata": {
    "tags": []
   },
   "outputs": [],
   "source": [
    "df_tjarno.head()"
   ]
  },
  {
   "cell_type": "code",
   "execution_count": null,
   "metadata": {
    "tags": []
   },
   "outputs": [],
   "source": [
    "df_yearly = df_tjarno.resample(\"Y\").mean()  # .plot()"
   ]
  },
  {
   "cell_type": "code",
   "execution_count": null,
   "metadata": {
    "tags": []
   },
   "outputs": [],
   "source": [
    "df_yearly[[\"U\", \"V\"]].plot()"
   ]
  },
  {
   "cell_type": "markdown",
   "metadata": {
    "tags": []
   },
   "source": [
    "# Using pandas specific tools:"
   ]
  },
  {
   "cell_type": "code",
   "execution_count": null,
   "metadata": {
    "tags": []
   },
   "outputs": [],
   "source": [
    "ds_s[\"Wind_speed\"] = np.sqrt(ds_s[\"U\"] ** 2 + ds_s[\"V\"] ** 2)"
   ]
  },
  {
   "cell_type": "code",
   "execution_count": null,
   "metadata": {
    "tags": []
   },
   "outputs": [],
   "source": [
    "df = ds_s.to_dataframe()\n",
    "df.head()"
   ]
  },
  {
   "cell_type": "code",
   "execution_count": null,
   "metadata": {
    "tags": []
   },
   "outputs": [],
   "source": [
    "df[[\"U\", \"V\"]].plot.hist(alpha=0.5, bins=200)"
   ]
  },
  {
   "cell_type": "code",
   "execution_count": null,
   "metadata": {
    "tags": []
   },
   "outputs": [],
   "source": [
    "df_ri = df.reset_index()\n",
    "df_ri.head()"
   ]
  },
  {
   "cell_type": "markdown",
   "metadata": {
    "tags": []
   },
   "source": [
    "### Check out the tradewinds (skip in presentation):"
   ]
  },
  {
   "cell_type": "code",
   "execution_count": null,
   "metadata": {
    "tags": []
   },
   "outputs": [],
   "source": [
    "trops = (-20 < df_ri[\"lat\"]) & (df_ri[\"lat\"] < 20)\n",
    "df_ri[[\"U\", \"V\"]][trops].plot.hist(alpha=0.5, bins=200)"
   ]
  },
  {
   "cell_type": "markdown",
   "metadata": {
    "tags": []
   },
   "source": [
    "### lets do something unnecesarily complicated :D "
   ]
  },
  {
   "cell_type": "markdown",
   "metadata": {
    "tags": []
   },
   "source": [
    "## qcut, cut"
   ]
  },
  {
   "cell_type": "markdown",
   "metadata": {
    "tags": []
   },
   "source": [
    "qcut splits the data into quantile ranges"
   ]
  },
  {
   "cell_type": "code",
   "execution_count": null,
   "metadata": {
    "tags": []
   },
   "outputs": [],
   "source": [
    "df_ri[\"wind_speed_cat\"] = pd.qcut(\n",
    "    df_ri[\"Wind_speed\"],\n",
    "    q=[0.05, 0.17, 0.34, 0.66, 0.83, 0.95],\n",
    "    labels=[\"very low\", \"low\", \"med\", \"high\", \"very high\"],\n",
    ")"
   ]
  },
  {
   "cell_type": "markdown",
   "metadata": {
    "tags": []
   },
   "source": [
    "Cut cuts into categories"
   ]
  },
  {
   "cell_type": "code",
   "execution_count": null,
   "metadata": {
    "tags": []
   },
   "outputs": [],
   "source": [
    "df_ri[\"lat_cat\"] = pd.cut(\n",
    "    df_ri[\"lat\"],\n",
    "    [-90, -60, -30, 0, 30, 60, 90],\n",
    "    labels=[\"S polar\", \"S mid\", \"S tropics\", \"N tropic\", \"N mid\", \"N polar\"],\n",
    ")"
   ]
  },
  {
   "cell_type": "markdown",
   "metadata": {
    "tags": []
   },
   "source": []
  },
  {
   "cell_type": "code",
   "execution_count": null,
   "metadata": {
    "tags": []
   },
   "outputs": [],
   "source": [
    "df_ri.groupby(\"lat_cat\").mean()"
   ]
  },
  {
   "cell_type": "code",
   "execution_count": null,
   "metadata": {
    "tags": []
   },
   "outputs": [],
   "source": [
    "sns.boxenplot(x=\"lat_cat\", y=\"U\", color=\"b\", scale=\"linear\", data=df_ri)"
   ]
  },
  {
   "cell_type": "code",
   "execution_count": null,
   "metadata": {
    "tags": []
   },
   "outputs": [],
   "source": [
    "sns.boxenplot(\n",
    "    x=\"wind_speed_cat\",\n",
    "    y=\"N_AER\",\n",
    "    color=\"b\",\n",
    "    scale=\"linear\",\n",
    "    data=df_ri,\n",
    ")"
   ]
  },
  {
   "cell_type": "code",
   "execution_count": null,
   "metadata": {
    "tags": []
   },
   "outputs": [],
   "source": [
    "sns.displot(\n",
    "    x=\"N_AER\", hue=\"lat_cat\", log_scale=True, kind=\"kde\", data=df_ri, multiple=\"stack\"\n",
    ")"
   ]
  },
  {
   "cell_type": "markdown",
   "metadata": {
    "tags": []
   },
   "source": [
    "## Convert back to xarray if we need:"
   ]
  },
  {
   "cell_type": "code",
   "execution_count": null,
   "metadata": {
    "tags": []
   },
   "outputs": [],
   "source": [
    "ds_new = df_ri.set_index([\"time\", \"lat\", \"lon\"]).to_xarray()"
   ]
  },
  {
   "cell_type": "code",
   "execution_count": null,
   "metadata": {
    "tags": []
   },
   "outputs": [],
   "source": [
    "ds_new"
   ]
  },
  {
   "cell_type": "markdown",
   "metadata": {},
   "source": [
    "### Groupby"
   ]
  },
  {
   "cell_type": "code",
   "execution_count": null,
   "metadata": {},
   "outputs": [],
   "source": [
    "ds_new.where(ds_new[\"wind_speed_cat\"] == \"low\").mean(\"time\")[\"N_AER\"].plot()"
   ]
  },
  {
   "cell_type": "code",
   "execution_count": null,
   "metadata": {},
   "outputs": [],
   "source": [
    "ds[\"wind_speed\"] = np.sqrt(ds[\"U\"] ** 2 + ds[\"V\"] ** 2)"
   ]
  },
  {
   "cell_type": "code",
   "execution_count": null,
   "metadata": {
    "tags": []
   },
   "outputs": [],
   "source": [
    "ds_new.groupby(\"wind_speed_cat\").mean()"
   ]
  },
  {
   "cell_type": "code",
   "execution_count": null,
   "metadata": {
    "tags": []
   },
   "outputs": [],
   "source": [
    "df[[\"U\", \"V\"]].plot.hist(alpha=0.5, bins=200)"
   ]
  },
  {
   "cell_type": "code",
   "execution_count": null,
   "metadata": {
    "tags": []
   },
   "outputs": [],
   "source": [
    "df_tjarno.head()"
   ]
  },
  {
   "cell_type": "code",
   "execution_count": null,
   "metadata": {},
   "outputs": [],
   "source": []
  }
 ],
 "metadata": {
  "jupytext": {
   "text_representation": {
    "extension": ".py",
    "format_name": "percent",
    "format_version": "1.2",
    "jupytext_version": "1.2.4"
   }
  },
  "language_info": {
   "codemirror_mode": {
    "name": "ipython",
    "version": 3
   },
   "file_extension": ".py",
   "mimetype": "text/x-python",
   "name": "python",
   "nbconvert_exporter": "python",
   "pygments_lexer": "ipython3"
  }
 },
 "nbformat": 4,
 "nbformat_minor": 4
}
