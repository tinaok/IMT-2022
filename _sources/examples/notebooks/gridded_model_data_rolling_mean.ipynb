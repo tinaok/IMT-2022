{
 "cells": [
  {
   "cell_type": "markdown",
   "metadata": {},
   "source": [
    "# Rolling mean with CMIP6\n",
    "\n",
    "## Import Python packages"
   ]
  },
  {
   "cell_type": "code",
   "execution_count": null,
   "metadata": {},
   "outputs": [],
   "source": [
    "import s3fs\n",
    "import xarray as xr\n",
    "import intake\n",
    "import matplotlib.pyplot as plt\n",
    "import cartopy.crs as ccrs\n",
    "import numpy as np"
   ]
  },
  {
   "cell_type": "markdown",
   "metadata": {},
   "source": [
    "## Open CMIP6 online catalog"
   ]
  },
  {
   "cell_type": "code",
   "execution_count": null,
   "metadata": {},
   "outputs": [],
   "source": [
    "cat_url = \"https://storage.googleapis.com/cmip6/pangeo-cmip6.json\"\n",
    "col = intake.open_esm_datastore(cat_url)\n",
    "col"
   ]
  },
  {
   "cell_type": "markdown",
   "metadata": {},
   "source": [
    "## Search for data "
   ]
  },
  {
   "cell_type": "code",
   "execution_count": null,
   "metadata": {},
   "outputs": [],
   "source": [
    "cat = col.search(\n",
    "    source_id=[\"CESM2-WACCM\"],\n",
    "    experiment_id=[\"historical\"],\n",
    "    table_id=[\"AERmon\"],\n",
    "    variable_id=[\"so2\"],\n",
    "    member_id=[\"r1i1p1f1\"],\n",
    ")\n",
    "cat.df"
   ]
  },
  {
   "cell_type": "markdown",
   "metadata": {},
   "source": [
    "## Create a dictionary from the list of dataset"
   ]
  },
  {
   "cell_type": "code",
   "execution_count": null,
   "metadata": {},
   "outputs": [],
   "source": [
    "dset_dict = cat.to_dataset_dict(zarr_kwargs={\"use_cftime\": True})"
   ]
  },
  {
   "cell_type": "code",
   "execution_count": null,
   "metadata": {},
   "outputs": [],
   "source": [
    "list(dset_dict.keys())"
   ]
  },
  {
   "cell_type": "markdown",
   "metadata": {},
   "source": [
    "## Open dataset"
   ]
  },
  {
   "cell_type": "code",
   "execution_count": null,
   "metadata": {},
   "outputs": [],
   "source": [
    "dset = dset_dict[\"CMIP.NCAR.CESM2-WACCM.historical.AERmon.gn\"]\n",
    "dset"
   ]
  },
  {
   "cell_type": "code",
   "execution_count": null,
   "metadata": {},
   "outputs": [],
   "source": [
    "dset.so2"
   ]
  },
  {
   "cell_type": "markdown",
   "metadata": {},
   "source": [
    "## Compute Weighted average"
   ]
  },
  {
   "cell_type": "code",
   "execution_count": null,
   "metadata": {},
   "outputs": [],
   "source": [
    "# Compute weights based on the xarray you pass\n",
    "weights = np.cos(np.deg2rad(dset.lat))\n",
    "weights.name = \"weights\"\n",
    "# Compute weighted mean\n",
    "var_weighted = dset.sel(lev=-1000, method=\"nearest\").weighted(weights)\n",
    "weighted_mean = var_weighted.mean((\"lon\", \"lat\"))"
   ]
  },
  {
   "cell_type": "markdown",
   "metadata": {},
   "source": [
    "## Rolling mean\n",
    "- Choose rolling time of 100"
   ]
  },
  {
   "cell_type": "code",
   "execution_count": null,
   "metadata": {},
   "outputs": [],
   "source": [
    "%%time\n",
    "weighted_mean.load()"
   ]
  },
  {
   "cell_type": "code",
   "execution_count": null,
   "metadata": {},
   "outputs": [],
   "source": [
    "%%time\n",
    "dpmean = (\n",
    "    weighted_mean.chunk(chunks={\"time\": 100})\n",
    "    .rolling({\"time\": 100}, min_periods=1, center=True)\n",
    "    .mean()\n",
    ")"
   ]
  },
  {
   "cell_type": "markdown",
   "metadata": {},
   "source": [
    "## Visualize"
   ]
  },
  {
   "cell_type": "code",
   "execution_count": null,
   "metadata": {},
   "outputs": [],
   "source": [
    "%%time\n",
    "fig = plt.figure(1, figsize=[15, 7])\n",
    "\n",
    "ax = plt.subplot(1, 1, 1)\n",
    "\n",
    "weighted_mean.so2.plot(ax=ax, marker=\".\", linewidth=0, label=\"all points\", alpha=0.1)\n",
    "\n",
    "dpmean.so2.plot(ax=ax, marker=\"\", linewidth=1, label=\"running mean [100 points]\")\n",
    "ax.legend()\n",
    "ax.grid()\n",
    "ax.set_ylabel(dset.so2.attrs[\"long_name\"] + \" (\" + dset.so2.attrs[\"units\"] + \")\")\n",
    "ax.set_xlabel(\"Time (year)\")\n",
    "ax.set_title(\"CMIP6 NCAR CESM2-WACCM historical (weighted rolling mean)\")\n",
    "plt.savefig(\"CMIP_NCAR_CESM2-WACCM_historical_weighted_rolling_mean.png\")"
   ]
  },
  {
   "cell_type": "markdown",
   "metadata": {},
   "source": [
    "## Save Results\n",
    "To improve the reproducibility of our work (first for ourselves!), we need to keep track of all our work and ease its reuse. We will:\n",
    "- Save this Jupyter notebook\n",
    "- Save weighted mean\n",
    "- Save rolling mean\n",
    "- Save figure\n",
    "\n",
    "We save intermediate results as netCDF files because they are small and ca be easily re-loaded (even if stored on cloud storage)."
   ]
  },
  {
   "cell_type": "markdown",
   "metadata": {},
   "source": [
    "## Save results locally\n",
    "- Useful for further analysis but can be lost if you close your JupyterLab or if there is any problem with your JupyterLab instance"
   ]
  },
  {
   "cell_type": "code",
   "execution_count": null,
   "metadata": {},
   "outputs": [],
   "source": [
    "weighted_mean.to_netcdf(\"CMIP_NCAR_CESM2-WACCM_historical_weighted_mean.nc\")"
   ]
  },
  {
   "cell_type": "code",
   "execution_count": null,
   "metadata": {},
   "outputs": [],
   "source": [
    "dpmean.to_netcdf(\"CMIP_NCAR_CESM2-WACCM_historical_rolling_mean.nc\")"
   ]
  },
  {
   "cell_type": "markdown",
   "metadata": {},
   "source": [
    "## Save your results on NIRD (Norwegian infrastructure for Research Data)\n",
    "- your credentials are in `$HOME/.aws/credentials` \n",
    "- check with your instructor to get the secret access key (replace XXX by the right key)\n",
    "\n",
    "```\n",
    "[default]\n",
    "aws_access_key_id=forces2021-work\n",
    "aws_secret_access_key=XXXXXXXXXXXX\n",
    "aws_endpoint_url=https://forces2021.uiogeo-apps.sigma2.no/\n",
    "```\n",
    "<div class=\"alert alert-success alert-info\">\n",
    "    <b>It is important to save yoru results in a place that can last longer than a few days/weeks!</b>\n",
    "</div>"
   ]
  },
  {
   "cell_type": "code",
   "execution_count": null,
   "metadata": {},
   "outputs": [],
   "source": [
    "import s3fs"
   ]
  },
  {
   "cell_type": "code",
   "execution_count": null,
   "metadata": {},
   "outputs": [],
   "source": [
    "fsg = s3fs.S3FileSystem(\n",
    "    anon=False,\n",
    "    client_kwargs={\"endpoint_url\": \"https://forces2021.uiogeo-apps.sigma2.no/\"},\n",
    ")"
   ]
  },
  {
   "cell_type": "markdown",
   "metadata": {},
   "source": [
    "## Set \"remote\" path (update annefou by your username) and save weighted mean as netCDF file"
   ]
  },
  {
   "cell_type": "code",
   "execution_count": null,
   "metadata": {},
   "outputs": [],
   "source": [
    "s3_path = \"s3://work/annefou/CMIP_NCAR_CESM2-WACCM_historical_weighted_mean.nc\"\n",
    "print(s3_path)"
   ]
  },
  {
   "cell_type": "code",
   "execution_count": null,
   "metadata": {},
   "outputs": [],
   "source": [
    "with fsg.open(s3_path, \"wb\") as f:\n",
    "    f.write(weighted_mean.to_netcdf(None))"
   ]
  },
  {
   "cell_type": "markdown",
   "metadata": {},
   "source": [
    "## Save rolling mean to remote location (update annefou with your username)"
   ]
  },
  {
   "cell_type": "code",
   "execution_count": null,
   "metadata": {},
   "outputs": [],
   "source": [
    "s3_path = \"s3://work/annefou/CMIP_NCAR_CESM2-WACCM_historical_rolling_mean.nc\"\n",
    "print(s3_path)"
   ]
  },
  {
   "cell_type": "code",
   "execution_count": null,
   "metadata": {},
   "outputs": [],
   "source": [
    "with fsg.open(s3_path, \"wb\") as f:\n",
    "    f.write(dpmean.to_netcdf(None))"
   ]
  },
  {
   "cell_type": "markdown",
   "metadata": {},
   "source": [
    "## Upload existing png file to remote s3 location"
   ]
  },
  {
   "cell_type": "code",
   "execution_count": null,
   "metadata": {},
   "outputs": [],
   "source": [
    "s3_path = \"s3://work/annefou/CMIP_NCAR_CESM2-WACCM_historical_weighted_rolling_mean.png\"\n",
    "print(s3_path)"
   ]
  },
  {
   "cell_type": "code",
   "execution_count": null,
   "metadata": {},
   "outputs": [],
   "source": [
    "fsg.put(\"CMIP_NCAR_CESM2-WACCM_historical_weighted_rolling_mean.png\", s3_path)"
   ]
  },
  {
   "cell_type": "code",
   "execution_count": null,
   "metadata": {},
   "outputs": [],
   "source": []
  }
 ],
 "metadata": {
  "language_info": {
   "codemirror_mode": {
    "name": "ipython",
    "version": 3
   },
   "file_extension": ".py",
   "mimetype": "text/x-python",
   "name": "python",
   "nbconvert_exporter": "python",
   "pygments_lexer": "ipython3"
  }
 },
 "nbformat": 4,
 "nbformat_minor": 4
}
