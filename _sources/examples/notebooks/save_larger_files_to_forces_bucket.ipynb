{
 "cells": [
  {
   "cell_type": "markdown",
   "id": "prospective-reviewer",
   "metadata": {},
   "source": [
    "# Save files from bucket to bucket\n",
    "<div class=\"alert alert-danger alert-info\">\n",
    "    <b>It is important to save your results in a place that can last longer than a few days/weeks!</b>\n",
    "</div>\n",
    "- When you have saved data locally on your JupyterLab instance and you want to mak a backup on https://forces2021.uiogeo-apps.sigma2.no/"
   ]
  },
  {
   "cell_type": "code",
   "execution_count": null,
   "id": "pointed-article",
   "metadata": {
    "tags": []
   },
   "outputs": [],
   "source": [
    "import os\n",
    "import pathlib\n",
    "import s3fs\n",
    "import xarray as xr"
   ]
  },
  {
   "cell_type": "markdown",
   "id": "charitable-crystal",
   "metadata": {},
   "source": [
    "## Connect to bucket (anonymous login for public data only)"
   ]
  },
  {
   "cell_type": "code",
   "execution_count": null,
   "id": "empty-infrastructure",
   "metadata": {},
   "outputs": [],
   "source": [
    "fs = s3fs.S3FileSystem(\n",
    "    anon=True, client_kwargs={\"endpoint_url\": \"https://climate.uiogeo-apps.sigma2.no/\"}\n",
    ")"
   ]
  },
  {
   "cell_type": "markdown",
   "id": "fossil-freight",
   "metadata": {},
   "source": [
    "## Get data into xarray"
   ]
  },
  {
   "cell_type": "code",
   "execution_count": null,
   "id": "prime-religious",
   "metadata": {},
   "outputs": [],
   "source": [
    "s3path = \"s3://ESGF/CMIP6/GeoMIP/MPI-M/*/G6sulfur/*/day/tasmin/gn/*/*.nc\""
   ]
  },
  {
   "cell_type": "code",
   "execution_count": null,
   "id": "center-lincoln",
   "metadata": {},
   "outputs": [],
   "source": [
    "remote_files = fs.glob(s3path)"
   ]
  },
  {
   "cell_type": "code",
   "execution_count": null,
   "id": "missing-destruction",
   "metadata": {},
   "outputs": [],
   "source": [
    "remote_files"
   ]
  },
  {
   "cell_type": "code",
   "execution_count": null,
   "id": "dying-hierarchy",
   "metadata": {},
   "outputs": [],
   "source": [
    "# Iterate through remote_files to create a fileset\n",
    "fileset = [fs.open(file) for file in remote_files]\n",
    "\n",
    "# This works\n",
    "dset = xr.open_mfdataset(fileset, combine=\"by_coords\", use_cftime=True)"
   ]
  },
  {
   "cell_type": "code",
   "execution_count": null,
   "id": "peaceful-asian",
   "metadata": {},
   "outputs": [],
   "source": [
    "dset"
   ]
  },
  {
   "cell_type": "markdown",
   "id": "statistical-preservation",
   "metadata": {},
   "source": [
    "## Check the size (MB) of our dataset"
   ]
  },
  {
   "cell_type": "code",
   "execution_count": null,
   "id": "enhanced-mozambique",
   "metadata": {},
   "outputs": [],
   "source": [
    "dset.nbytes / 1e6"
   ]
  },
  {
   "cell_type": "markdown",
   "id": "national-palestinian",
   "metadata": {},
   "source": [
    "Our dataset is bit more than 2.4 GB"
   ]
  },
  {
   "cell_type": "markdown",
   "id": "toxic-intent",
   "metadata": {},
   "source": [
    "## Save file from memory to bucket"
   ]
  },
  {
   "cell_type": "code",
   "execution_count": null,
   "id": "genuine-moment",
   "metadata": {},
   "outputs": [],
   "source": [
    "%%time\n",
    "dset.load()"
   ]
  },
  {
   "cell_type": "markdown",
   "id": "thorough-director",
   "metadata": {},
   "source": [
    "## Save your results to Remote private object storage\n",
    "- your credentials are in `$HOME/.aws/credentials` \n",
    "- check with your instructor to get the secret access key (replace XXX by the right key)\n",
    "\n",
    "```\n",
    "[default]\n",
    "aws_access_key_id=forces2021-work\n",
    "aws_secret_access_key=XXXXXXXXXXXX\n",
    "aws_endpoint_url=https://forces2021.uiogeo-apps.sigma2.no/\n",
    "```"
   ]
  },
  {
   "cell_type": "code",
   "execution_count": null,
   "id": "hungry-blackjack",
   "metadata": {},
   "outputs": [],
   "source": [
    "target = s3fs.S3FileSystem(\n",
    "    anon=False,\n",
    "    client_kwargs={\"endpoint_url\": \"https://forces2021.uiogeo-apps.sigma2.no/\"},\n",
    ")"
   ]
  },
  {
   "cell_type": "markdown",
   "id": "designing-canyon",
   "metadata": {},
   "source": [
    "## Save as netCDF\n",
    "- netCDF is not a cloud-optimized format so it may be slow"
   ]
  },
  {
   "cell_type": "code",
   "execution_count": null,
   "id": "attached-roots",
   "metadata": {},
   "outputs": [],
   "source": [
    "s3_path = \"s3://work/annefou/tasmin_day_MPI-ESM1-2-LR_G6sulfur_r1i1p1f1_gn.nc\"\n",
    "print(s3_path)"
   ]
  },
  {
   "cell_type": "code",
   "execution_count": null,
   "id": "smaller-denver",
   "metadata": {},
   "outputs": [],
   "source": [
    "with target.open(s3_path, \"wb\") as f:\n",
    "    f.write(dset.to_netcdf(None))"
   ]
  },
  {
   "cell_type": "markdown",
   "id": "analyzed-sussex",
   "metadata": {},
   "source": [
    "## Then you can use the remote file"
   ]
  },
  {
   "cell_type": "code",
   "execution_count": null,
   "id": "quick-assumption",
   "metadata": {},
   "outputs": [],
   "source": [
    "remote_file = [\"work/annefou/tasmin_day_MPI-ESM1-2-LR_G6sulfur_r1i1p1f1_gn.nc\"]"
   ]
  },
  {
   "cell_type": "code",
   "execution_count": null,
   "id": "stupid-foster",
   "metadata": {},
   "outputs": [],
   "source": [
    "fileset = [target.open(file) for file in remote_file]"
   ]
  },
  {
   "cell_type": "code",
   "execution_count": null,
   "id": "competent-celtic",
   "metadata": {},
   "outputs": [],
   "source": [
    "%%time\n",
    "ds_check = xr.open_mfdataset(fileset, combine=\"by_coords\", use_cftime=True)\n",
    "ds_check"
   ]
  },
  {
   "cell_type": "code",
   "execution_count": null,
   "id": "rational-draft",
   "metadata": {},
   "outputs": [],
   "source": [
    "%%time\n",
    "ds_seas = ds_check.groupby(\"time.season\").mean(\"time\", keep_attrs=True, skipna=True)"
   ]
  },
  {
   "cell_type": "markdown",
   "id": "ignored-leone",
   "metadata": {},
   "source": [
    "## Save as Zarr\n",
    "- it usually takes longer to save but it is much faster to read"
   ]
  },
  {
   "cell_type": "code",
   "execution_count": null,
   "id": "intensive-blackjack",
   "metadata": {
    "jupyter": {
     "outputs_hidden": true
    },
    "tags": []
   },
   "outputs": [],
   "source": [
    "dset.load()"
   ]
  },
  {
   "cell_type": "code",
   "execution_count": null,
   "id": "continuous-values",
   "metadata": {},
   "outputs": [],
   "source": [
    "s3_path = \"s3://work/annefou/tasmin_day_MPI-ESM1-2-LR_G6sulfur_r1i1p1f1_gn.zarr\"\n",
    "print(s3_path)"
   ]
  },
  {
   "cell_type": "code",
   "execution_count": null,
   "id": "immune-procurement",
   "metadata": {},
   "outputs": [],
   "source": [
    "store = s3fs.S3Map(root=s3_path, s3=target, check=False)"
   ]
  },
  {
   "cell_type": "code",
   "execution_count": null,
   "id": "genuine-homework",
   "metadata": {},
   "outputs": [],
   "source": [
    "%%time\n",
    "dset.to_zarr(store=store, mode=\"w\", consolidated=True, compute=True)"
   ]
  },
  {
   "cell_type": "markdown",
   "id": "buried-nigeria",
   "metadata": {},
   "source": [
    "## Then you can use the remote file\n",
    "- loading Zarr is usually faster, especially with large datasets"
   ]
  },
  {
   "cell_type": "code",
   "execution_count": null,
   "id": "martial-survey",
   "metadata": {},
   "outputs": [],
   "source": [
    "%%time\n",
    "ds_check = xr.open_zarr(store=store, consolidated=True)\n",
    "ds_check"
   ]
  },
  {
   "cell_type": "code",
   "execution_count": null,
   "id": "gross-flooring",
   "metadata": {},
   "outputs": [],
   "source": [
    "%%time\n",
    "ds_seas = ds_check.groupby(\"time.season\").mean(\"time\", keep_attrs=True, skipna=True)"
   ]
  },
  {
   "cell_type": "code",
   "execution_count": null,
   "id": "duplicate-reporter",
   "metadata": {},
   "outputs": [],
   "source": []
  }
 ],
 "metadata": {
  "language_info": {
   "codemirror_mode": {
    "name": "ipython",
    "version": 3
   },
   "file_extension": ".py",
   "mimetype": "text/x-python",
   "name": "python",
   "nbconvert_exporter": "python",
   "pygments_lexer": "ipython3"
  }
 },
 "nbformat": 4,
 "nbformat_minor": 5
}
