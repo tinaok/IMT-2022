{
 "cells": [
  {
   "cell_type": "markdown",
   "id": "abstract-crystal",
   "metadata": {},
   "source": [
    "# Reading MODIS data with xarray"
   ]
  },
  {
   "cell_type": "markdown",
   "id": "certified-discharge",
   "metadata": {},
   "source": [
    "## Import python packages"
   ]
  },
  {
   "cell_type": "code",
   "execution_count": null,
   "id": "announced-anime",
   "metadata": {},
   "outputs": [],
   "source": [
    "import pandas as pd\n",
    "import s3fs\n",
    "import xarray as xr"
   ]
  },
  {
   "cell_type": "markdown",
   "id": "final-cooler",
   "metadata": {},
   "source": [
    "## Connect to bucket (anonymous login for public data only)"
   ]
  },
  {
   "cell_type": "code",
   "execution_count": null,
   "id": "optional-trailer",
   "metadata": {},
   "outputs": [],
   "source": [
    "fs = s3fs.S3FileSystem(\n",
    "    anon=True, client_kwargs={\"endpoint_url\": \"https://climate.uiogeo-apps.sigma2.no/\"}\n",
    ")"
   ]
  },
  {
   "cell_type": "code",
   "execution_count": null,
   "id": "alert-blond",
   "metadata": {},
   "outputs": [],
   "source": [
    "fs.ls(\"ESGF/obs4MIPs/MODIS/MODIS6.1terra\")[:10]"
   ]
  },
  {
   "cell_type": "code",
   "execution_count": null,
   "id": "hazardous-richardson",
   "metadata": {},
   "outputs": [],
   "source": [
    "s3path = \"ESGF/obs4MIPs/MODIS/MODIS6.1terra/*od550aer*.nc\"\n",
    "remote_files = fs.glob(s3path)\n",
    "print(remote_files)"
   ]
  },
  {
   "cell_type": "markdown",
   "id": "primary-clinic",
   "metadata": {},
   "source": [
    "## Access data files"
   ]
  },
  {
   "cell_type": "code",
   "execution_count": null,
   "id": "executive-mercy",
   "metadata": {},
   "outputs": [],
   "source": [
    "# Iterate through remote_files to create a fileset\n",
    "fileset = [fs.open(file) for file in remote_files]"
   ]
  },
  {
   "cell_type": "markdown",
   "id": "supreme-aluminum",
   "metadata": {},
   "source": [
    "## Data reading with xarray"
   ]
  },
  {
   "cell_type": "code",
   "execution_count": null,
   "id": "warming-baghdad",
   "metadata": {},
   "outputs": [],
   "source": [
    "# Read file with xarray\n",
    "dset = xr.open_mfdataset(fileset, combine=\"by_coords\")"
   ]
  },
  {
   "cell_type": "code",
   "execution_count": null,
   "id": "careful-tribune",
   "metadata": {},
   "outputs": [],
   "source": [
    "dset"
   ]
  },
  {
   "cell_type": "markdown",
   "id": "outside-wilson",
   "metadata": {},
   "source": [
    "## Plot a single time"
   ]
  },
  {
   "cell_type": "code",
   "execution_count": null,
   "id": "alien-supervisor",
   "metadata": {},
   "outputs": [],
   "source": [
    "!pip install cmaps"
   ]
  },
  {
   "cell_type": "code",
   "execution_count": null,
   "id": "ordinary-imagination",
   "metadata": {},
   "outputs": [],
   "source": [
    "import cartopy.crs as ccrs\n",
    "import matplotlib.pyplot as plt\n",
    "import cmaps"
   ]
  },
  {
   "cell_type": "code",
   "execution_count": null,
   "id": "abstract-disclosure",
   "metadata": {},
   "outputs": [],
   "source": [
    "fig = plt.figure(figsize=(20, 10))\n",
    "\n",
    "# We're using cartopy and are plotting in Orthographic projection\n",
    "# (see documentation on cartopy)\n",
    "ax = plt.subplot(\n",
    "    1, 1, 1, projection=ccrs.PlateCarree(central_longitude=20.0, globe=None)\n",
    ")\n",
    "ax.coastlines(resolution=\"110m\")\n",
    "\n",
    "# custom colormap\n",
    "lcmap = cmaps.BlueYellowRed\n",
    "\n",
    "# We need to project our data to the new Mercator projection and for this we use `transform`.\n",
    "# we set the original data projection in transform (here PlateCarree)\n",
    "# we only plot values greather than 0\n",
    "dset[\"od550aer\"].sel(time=\"2001-01-01\").plot(\n",
    "    ax=ax, transform=ccrs.PlateCarree(), cmap=lcmap, vmin=0.0, vmax=0.5\n",
    ")\n",
    "ax.set_title(\"MODIS - 2001-01-01\\n \", fontsize=20)"
   ]
  },
  {
   "cell_type": "markdown",
   "id": "accepting-sandwich",
   "metadata": {},
   "source": [
    "## Interactive plot"
   ]
  },
  {
   "cell_type": "code",
   "execution_count": null,
   "id": "difficult-characterization",
   "metadata": {},
   "outputs": [],
   "source": [
    "from ipywidgets import interact, interactive, fixed, interact_manual, widgets\n",
    "from datetime import datetime"
   ]
  },
  {
   "cell_type": "code",
   "execution_count": null,
   "id": "exotic-entrepreneur",
   "metadata": {},
   "outputs": [],
   "source": [
    "def plot_map(date):\n",
    "    fig = plt.figure(figsize=(20, 10))\n",
    "\n",
    "    ax = plt.subplot(\n",
    "        1, 1, 1, projection=ccrs.PlateCarree(central_longitude=20.0, globe=None)\n",
    "    )\n",
    "    ax.coastlines(resolution=\"110m\")\n",
    "\n",
    "    # custom colormap\n",
    "    lcmap = cmaps.BlueYellowRed\n",
    "\n",
    "    # We need to project our data to the new Mercator projection and for this we use `transform`.\n",
    "    # we set the original data projection in transform (here PlateCarree)\n",
    "    # we only plot values greather than 0\n",
    "    dset[\"od550aer\"].sel(time=date).plot(\n",
    "        ax=ax, transform=ccrs.PlateCarree(), cmap=lcmap, vmin=0.0, vmax=0.5\n",
    "    )\n",
    "    ax.set_title(\"MODIS - {}\\n \".format(date), fontsize=20)"
   ]
  },
  {
   "cell_type": "code",
   "execution_count": null,
   "id": "seventh-source",
   "metadata": {},
   "outputs": [],
   "source": [
    "start_date = datetime(2000, 1, 1)\n",
    "end_date = datetime(2018, 12, 31)\n",
    "\n",
    "dates = pd.date_range(start_date, end_date, freq=\"D\")\n",
    "\n",
    "options = [(date.strftime(\"%Y-%m-%d\"), date) for date in dates]\n",
    "index = (0, len(options) - 1)\n",
    "\n",
    "date_slider = widgets.SelectionSlider(\n",
    "    options=options, orientation=\"horizontal\", layout={\"width\": \"800px\"}\n",
    ")"
   ]
  },
  {
   "cell_type": "code",
   "execution_count": null,
   "id": "bibliographic-shaft",
   "metadata": {},
   "outputs": [],
   "source": [
    "interact(plot_map, date=date_slider);"
   ]
  },
  {
   "cell_type": "code",
   "execution_count": null,
   "id": "endless-onion",
   "metadata": {},
   "outputs": [],
   "source": []
  }
 ],
 "metadata": {
  "language_info": {
   "codemirror_mode": {
    "name": "ipython",
    "version": 3
   },
   "file_extension": ".py",
   "mimetype": "text/x-python",
   "name": "python",
   "nbconvert_exporter": "python",
   "pygments_lexer": "ipython3"
  }
 },
 "nbformat": 4,
 "nbformat_minor": 5
}
