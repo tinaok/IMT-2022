{
 "cells": [
  {
   "cell_type": "markdown",
   "id": "stable-company",
   "metadata": {},
   "source": [
    "# MODIS Sea-ice"
   ]
  },
  {
   "cell_type": "code",
   "execution_count": null,
   "id": "wound-needle",
   "metadata": {},
   "outputs": [],
   "source": [
    "import xarray as xr\n",
    "\n",
    "xr.set_options(display_style=\"html\")\n",
    "import cftime\n",
    "import matplotlib.pyplot as plt\n",
    "import matplotlib.path as mpath\n",
    "import cartopy.crs as ccrs\n",
    "from cmcrameri import cm\n",
    "import pandas as pd\n",
    "import numpy as np\n",
    "\n",
    "%matplotlib inline\n",
    "import s3fs"
   ]
  },
  {
   "cell_type": "markdown",
   "id": "prompt-volleyball",
   "metadata": {},
   "source": [
    "# Satellite (MODIS)"
   ]
  },
  {
   "cell_type": "code",
   "execution_count": null,
   "id": "informed-rental",
   "metadata": {},
   "outputs": [],
   "source": [
    "fs = s3fs.S3FileSystem(\n",
    "    anon=False,\n",
    "    client_kwargs={\"endpoint_url\": \"https://forces2021.uiogeo-apps.sigma2.no/\"},\n",
    ")\n",
    "\n",
    "# Choose the year to load satellite data (2012-2019)\n",
    "i = 2013\n",
    "\n",
    "# Satellite data\n",
    "s3path = \"s3://data/ASMR2/seaiceconc/\" + str(i) + \"/*.nc\"\n",
    "print(\"Reading sea ice concentration from year \" + str(i))\n",
    "remote_files = fs.glob(s3path)\n",
    "fileset = [fs.open(file) for file in remote_files]\n",
    "d2019 = xr.open_mfdataset(fileset, combine=\"nested\", concat_dim=[\"time\"])\n",
    "d2019[\"time\"] = pd.to_datetime(list(map(lambda x: x[43:51], remote_files)))"
   ]
  },
  {
   "cell_type": "code",
   "execution_count": null,
   "id": "nasty-necklace",
   "metadata": {
    "tags": []
   },
   "outputs": [],
   "source": [
    "d2019.polar_stereographic"
   ]
  },
  {
   "cell_type": "markdown",
   "id": "rough-robin",
   "metadata": {},
   "source": [
    "## Plotting one date "
   ]
  },
  {
   "cell_type": "code",
   "execution_count": null,
   "id": "concrete-specification",
   "metadata": {},
   "outputs": [],
   "source": [
    "def polarCentral_set_latlim(lat_lims, ax):\n",
    "    ax.set_extent([-180, 180, lat_lims[0], lat_lims[1]], ccrs.PlateCarree())\n",
    "    # Compute a circle in axes coordinates, which we can use as a boundary\n",
    "    # for the map. We can pan/zoom as much as we like - the boundary will be\n",
    "    # permanently circular.\n",
    "    theta = np.linspace(0, 2 * np.pi, 100)\n",
    "    center, radius = [0.5, 0.5], 0.5\n",
    "    verts = np.vstack([np.sin(theta), np.cos(theta)]).T\n",
    "    circle = mpath.Path(verts * radius + center)\n",
    "\n",
    "    ax.set_boundary(circle, transform=ax.transAxes)"
   ]
  },
  {
   "cell_type": "code",
   "execution_count": null,
   "id": "about-southwest",
   "metadata": {},
   "outputs": [],
   "source": [
    "fig = plt.figure(1, figsize=[10, 10])\n",
    "\n",
    "# Fix extent\n",
    "minval = 0\n",
    "maxval = 100.0\n",
    "\n",
    "ax = plt.subplot(1, 1, 1, projection=ccrs.NorthPolarStereo())\n",
    "ax.coastlines()\n",
    "ax.gridlines()\n",
    "polarCentral_set_latlim([50, 90], ax)\n",
    "d2019.z.sel(time=\"2013.12.29\").plot(\n",
    "    ax=ax,\n",
    "    vmin=minval,\n",
    "    vmax=maxval,\n",
    "    transform=ccrs.NorthPolarStereo(central_longitude=-45, true_scale_latitude=70),\n",
    "    cmap=\"Blues\",\n",
    ")"
   ]
  }
 ],
 "metadata": {
  "language_info": {
   "codemirror_mode": {
    "name": "ipython",
    "version": 3
   },
   "file_extension": ".py",
   "mimetype": "text/x-python",
   "name": "python",
   "nbconvert_exporter": "python",
   "pygments_lexer": "ipython3"
  },
  "toc-showmarkdowntxt": false
 },
 "nbformat": 4,
 "nbformat_minor": 5
}
